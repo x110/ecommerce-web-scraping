{
 "cells": [
  {
   "cell_type": "code",
   "execution_count": 6,
   "metadata": {},
   "outputs": [
    {
     "name": "stdout",
     "output_type": "stream",
     "text": [
      "Data has been saved to products_urls.csv\n"
     ]
    }
   ],
   "source": [
    "BASE_URL = \"https://ae.kickscrew.com/collections/nike\"\n",
    "CLASS_HITS_ITEM = \"ais-Hits-item\"\n",
    "CLASS_PAGINATION_LINK = \"ais-Pagination-item--lastPage\"\n",
    "csv_file_path = \"products_urls.csv\"\n",
    "\n",
    "from selenium import webdriver\n",
    "from selenium.webdriver.support.ui import WebDriverWait\n",
    "from selenium.webdriver.support import expected_conditions as EC\n",
    "from selenium.webdriver.common.by import By\n",
    "import csv\n",
    "\n",
    "data_list = []\n",
    "\n",
    "try:\n",
    "    options = webdriver.ChromeOptions()\n",
    "    options.add_argument(\"user-agent=Mozilla/5.0 (Windows NT 10.0; Win64; x64) AppleWebKit/537.36 (KHTML, like Gecko) Chrome/58.0.3029.110 Safari/537.3\")\n",
    "    driver = webdriver.Chrome(options=options)\n",
    "\n",
    "\n",
    "    wait = WebDriverWait(driver, 5)  # Adjust the timeout as needed\n",
    "    driver.get(BASE_URL)\n",
    "    wait.until(EC.presence_of_all_elements_located((By.CLASS_NAME, CLASS_PAGINATION_LINK)))\n",
    "\n",
    "\n",
    "    # Find the last page number\n",
    "    last_page_element = driver.find_element(By.CLASS_NAME, CLASS_PAGINATION_LINK)\n",
    "    last_page_url = last_page_element.find_element(By.TAG_NAME,\"a\").get_attribute(\"href\")\n",
    "    last_page = int(last_page_url.split(\"page=\")[-1])\n",
    "\n",
    "    # Generate the list of URLs\n",
    "    urls = [BASE_URL + \"?page=\" + str(i) for i in range(310, last_page + 1)]\n",
    "\n",
    "    product_urls = []\n",
    "    \n",
    "    for url in urls:\n",
    "        driver.get(url)\n",
    "\n",
    "        wait.until(EC.presence_of_all_elements_located((By.CLASS_NAME, CLASS_HITS_ITEM)))\n",
    "\n",
    "        search_results = driver.find_elements(By.CLASS_NAME,CLASS_HITS_ITEM)\n",
    "\n",
    "        product_urls.extend([result.find_element(By.TAG_NAME,\"a\").get_attribute(\"href\") for result in search_results])\n",
    "\n",
    "    with open(csv_file_path, mode='w', newline='', encoding='utf-8') as csv_file:\n",
    "        fieldnames = ['Product URL']\n",
    "        csv_writer = csv.writer(csv_file)\n",
    "\n",
    "        csv_writer.writerow(fieldnames)  # Write the header\n",
    "\n",
    "        # Write each product URL as a separate row\n",
    "        for url in product_urls:\n",
    "            csv_writer.writerow([url])\n",
    "\n",
    "    print(f\"Data has been saved to {csv_file_path}\")\n",
    "\n",
    "finally:\n",
    "    driver.quit()\n"
   ]
  },
  {
   "cell_type": "code",
   "execution_count": 2,
   "metadata": {},
   "outputs": [],
   "source": [
    "import csv\n",
    "urls_file_path = \"products_urls.csv\"\n",
    "\n",
    "products_urls = []\n",
    "\n",
    "with open(urls_file_path, mode='r', encoding='utf-8') as csv_file:\n",
    "    csv_reader = csv.reader(csv_file)\n",
    "    \n",
    "    # Skip the header row if it exists\n",
    "    next(csv_reader, None)\n",
    "\n",
    "    # Read each row and append the product URL to the list\n",
    "    for row in csv_reader:\n",
    "        products_urls.append(row[0])  # Assuming the URL is in the first (0-indexed) column\n",
    "\n",
    "products_urls = [url.replace(\".com\",'.com/en') for url in products_urls]"
   ]
  },
  {
   "cell_type": "code",
   "execution_count": 5,
   "metadata": {},
   "outputs": [
    {
     "name": "stdout",
     "output_type": "stream",
     "text": [
      "Data has been written to scraped_data.json\n"
     ]
    }
   ],
   "source": [
    "file_path = \"scraped_data.json\"\n",
    "\n",
    "from selenium import webdriver\n",
    "from selenium.webdriver.support.ui import WebDriverWait\n",
    "from selenium.webdriver.support import expected_conditions as EC\n",
    "from selenium.webdriver.common.by import By\n",
    "import json\n",
    "from bs4 import BeautifulSoup\n",
    "import re\n",
    "\n",
    "def find_product_info(soup):\n",
    "    product_info_raw = soup.find('div', class_=\"pdp-product-info-container\").get_text().strip().split('\\n\\n')\n",
    "    product_info = {}\n",
    "    for item in product_info_raw:\n",
    "        key, value = item.split('\\n', 1)  # Split only at the first occurrence of newline\n",
    "        product_info[key] = value\n",
    "    return product_info\n",
    "\n",
    "def find_gender(soup):\n",
    "    pdp_tab_header = soup.find('div', class_='pdpTabHeader')\n",
    "    gender = pdp_tab_header.find('div', class_='pdpOptionValues').text.strip()\n",
    "    return gender\n",
    "\n",
    "data = []\n",
    "\n",
    "try:\n",
    "    options = webdriver.ChromeOptions()\n",
    "    options.add_argument(\"user-agent=Mozilla/5.0 (Windows NT 10.0; Win64; x64) AppleWebKit/537.36 (KHTML, like Gecko) Chrome/58.0.3029.110 Safari/537.3\")\n",
    "    driver = webdriver.Chrome(options=options)\n",
    "    wait = WebDriverWait(driver, 10)  # Adjust the timeout as needed\n",
    "\n",
    "    for url in products_urls[:6]:\n",
    "        driver.get(url)\n",
    "        \n",
    "        page_source = driver.page_source\n",
    "        \n",
    "        soup = BeautifulSoup(page_source, 'html.parser')\n",
    "        product_data = {}\n",
    "        product_data['handle'] = url.split('/products/')[-1]\n",
    "        product_data['title'] = soup.find('h1', class_='product-area__details__title').get_text(strip=True)\n",
    "        element = soup.find('div', class_=\"cc-tabs__tab__panel\",id = re.compile(\"product-tab-panel3_\"))\n",
    "        if element:\n",
    "            product_data['body'] = element.get_text(strip=True)\n",
    "        else:\n",
    "            print(\"Body not found.\")        \n",
    "        product_data['type'] = soup.find('div', class_=\"vendor product-detail__gap-sm\").get_text(strip=True)\n",
    "        product_data['product_info'] = find_product_info(soup)\n",
    "        product_data['gender'] = find_gender(soup)\n",
    "        data.append(product_data)\n",
    "    with open(file_path,'w') as file:\n",
    "        json.dump(data, file, indent=2)\n",
    "    print(f'Data has been written to {file_path}')\n",
    "    \n",
    "\n",
    "finally:\n",
    "    driver.quit()"
   ]
  }
 ],
 "metadata": {
  "kernelspec": {
   "display_name": "Python 3.10.6 ('myenv': venv)",
   "language": "python",
   "name": "python3"
  },
  "language_info": {
   "codemirror_mode": {
    "name": "ipython",
    "version": 3
   },
   "file_extension": ".py",
   "mimetype": "text/x-python",
   "name": "python",
   "nbconvert_exporter": "python",
   "pygments_lexer": "ipython3",
   "version": "3.10.6"
  },
  "orig_nbformat": 4,
  "vscode": {
   "interpreter": {
    "hash": "5c950ce38c210327d61790ed8756291d090590ce6249476a944d81e3087fc39b"
   }
  }
 },
 "nbformat": 4,
 "nbformat_minor": 2
}
