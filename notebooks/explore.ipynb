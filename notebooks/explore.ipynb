{
 "cells": [
  {
   "cell_type": "code",
   "execution_count": 2,
   "metadata": {},
   "outputs": [
    {
     "name": "stdout",
     "output_type": "stream",
     "text": [
      "Data has been saved to scraped_data.csv\n"
     ]
    }
   ],
   "source": [
    "BASE_URL = \"https://ae.kickscrew.com/collections/nike\"\n",
    "CLASS_HITS_ITEM = \"ais-Hits-item\"\n",
    "CLASS_HIT_IMAGE = \"hit-image\"\n",
    "CLASS_PRODUCT_PRICE = \"product-price\"\n",
    "CLASS_PAGINATION_LINK = \"ais-Pagination-item--lastPage\"\n",
    "\n",
    "\n",
    "csv_file_path = \"scraped_data.csv\"\n",
    "\n",
    "from selenium import webdriver\n",
    "from selenium.webdriver.support.ui import WebDriverWait\n",
    "from selenium.webdriver.support import expected_conditions as EC\n",
    "from selenium.webdriver.common.by import By\n",
    "import csv\n",
    "\n",
    "data_list = []\n",
    "\n",
    "try:\n",
    "    options = webdriver.ChromeOptions()\n",
    "    options.add_argument(\"user-agent=Mozilla/5.0 (Windows NT 10.0; Win64; x64) AppleWebKit/537.36 (KHTML, like Gecko) Chrome/58.0.3029.110 Safari/537.3\")\n",
    "    driver = webdriver.Chrome(options=options)\n",
    "\n",
    "\n",
    "    wait = WebDriverWait(driver, 20)  # Adjust the timeout as needed\n",
    "    driver.get(BASE_URL)\n",
    "    wait.until(EC.presence_of_all_elements_located((By.CLASS_NAME, CLASS_PAGINATION_LINK)))\n",
    "\n",
    "\n",
    "    # Find the last page number\n",
    "    last_page_element = driver.find_element(By.CLASS_NAME, CLASS_PAGINATION_LINK)\n",
    "    last_page_url = last_page_element.find_element(By.TAG_NAME,\"a\").get_attribute(\"href\")\n",
    "    last_page = int(last_page_url.split(\"page=\")[-1])\n",
    "\n",
    "    # Generate the list of URLs\n",
    "    urls = [BASE_URL + \"?page=\" + str(i) for i in range(310, last_page + 1)]\n",
    "\n",
    "    for url in urls:\n",
    "        driver.get(url)\n",
    "\n",
    "        wait.until(EC.presence_of_all_elements_located((By.CLASS_NAME, CLASS_HITS_ITEM)))\n",
    "\n",
    "        search_results = driver.find_elements(By.CLASS_NAME,CLASS_HITS_ITEM)\n",
    "\n",
    "        for result in search_results:\n",
    "            handle = result.find_element(By.TAG_NAME,\"a\").get_attribute(\"href\").split(\"/products/\")[-1]\n",
    "            title = result.find_element(By.CLASS_NAME,CLASS_HIT_IMAGE).get_attribute(\"alt\")\n",
    "            price = result.find_element(By.CLASS_NAME,CLASS_PRODUCT_PRICE).text\n",
    "            image_url = result.find_element(By.CLASS_NAME,CLASS_HIT_IMAGE).get_attribute(\"src\")\n",
    "\n",
    "            data_list.append([handle,title, price, image_url])\n",
    "    \n",
    "    with open(csv_file_path, mode='w', newline='', encoding='utf-8') as csv_file:\n",
    "        fieldnames = ['Handle', 'Title', 'Price', 'Image URL']\n",
    "        csv_writer = csv.DictWriter(csv_file, fieldnames=fieldnames)\n",
    "\n",
    "        csv_writer.writeheader()\n",
    "        csv_writer.writerows({'Handle': handle, 'Title': title, 'Price': price, 'Image URL': image_url} for handle, title, price, image_url in data_list)\n",
    "        \n",
    "    print(f\"Data has been saved to {csv_file_path}\")\n",
    "\n",
    "\n",
    "finally:\n",
    "    driver.quit()\n"
   ]
  },
  {
   "cell_type": "code",
   "execution_count": 10,
   "metadata": {},
   "outputs": [
    {
     "name": "stdout",
     "output_type": "stream",
     "text": [
      "Handle,Title,Price,Image URL\n",
      "wmns-nike-air-force-1-low-valentine-s-day-2024-fz5068-161,(WMNS) Nike Air Force 1 Low 'Valentines Day 2024',AED 504,https://cdn.shopify.com/s/files/1/0603/3031/1875/files/main-square_57cf7b45-39ff-48f5-8ad1-e8e71f4d2e90_x480.png?v=1703145184\n"
     ]
    }
   ],
   "source": [
    "!head -2 scraped_data.csv"
   ]
  }
 ],
 "metadata": {
  "interpreter": {
   "hash": "42f79d4b816a607076411f3afae9968fab9f0ac83a9e2dbd43b0a0dcb526ff7a"
  },
  "kernelspec": {
   "display_name": "Python 3.8.10 ('venv': venv)",
   "language": "python",
   "name": "python3"
  },
  "language_info": {
   "codemirror_mode": {
    "name": "ipython",
    "version": 3
   },
   "file_extension": ".py",
   "mimetype": "text/x-python",
   "name": "python",
   "nbconvert_exporter": "python",
   "pygments_lexer": "ipython3",
   "version": "3.8.10"
  },
  "orig_nbformat": 4
 },
 "nbformat": 4,
 "nbformat_minor": 2
}
